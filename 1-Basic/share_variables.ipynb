{
 "cells": [
  {
   "cell_type": "markdown",
   "metadata": {
    "collapsed": true
   },
   "source": [
    "## Share Variable"
   ]
  },
  {
   "cell_type": "code",
   "execution_count": 24,
   "metadata": {
    "collapsed": true
   },
   "outputs": [],
   "source": [
    "import tensorflow as tf\n",
    "import numpy as np"
   ]
  },
  {
   "cell_type": "code",
   "execution_count": 12,
   "metadata": {},
   "outputs": [
    {
     "name": "stdout",
     "output_type": "stream",
     "text": [
      "actor/a1:0\n"
     ]
    }
   ],
   "source": [
    "tf.reset_default_graph()\n",
    "with tf.Session() as sess:\n",
    "    with tf.variable_scope('actor'):\n",
    "        a1 = tf.Variable(tf.constant(1), name='a1')\n",
    "        print (a1.name)"
   ]
  },
  {
   "cell_type": "code",
   "execution_count": 13,
   "metadata": {
    "collapsed": true
   },
   "outputs": [],
   "source": [
    "params = tf.get_collection(tf.GraphKeys.GLOBAL_VARIABLES, 'actor')"
   ]
  },
  {
   "cell_type": "code",
   "execution_count": 14,
   "metadata": {},
   "outputs": [
    {
     "name": "stdout",
     "output_type": "stream",
     "text": [
      "[<tf.Variable 'actor/a1:0' shape=() dtype=int32_ref>]\n"
     ]
    }
   ],
   "source": [
    "print(params)"
   ]
  },
  {
   "cell_type": "code",
   "execution_count": 16,
   "metadata": {
    "collapsed": true
   },
   "outputs": [],
   "source": [
    "def build_net():\n",
    "    a = tf.Variable(tf.constant(1), name='a')\n",
    "    return a"
   ]
  },
  {
   "cell_type": "code",
   "execution_count": 17,
   "metadata": {},
   "outputs": [
    {
     "name": "stdout",
     "output_type": "stream",
     "text": [
      "actor/a:0\n"
     ]
    }
   ],
   "source": [
    "tf.reset_default_graph()\n",
    "with tf.Session() as sess:\n",
    "    with tf.variable_scope('actor'):\n",
    "        a1 = build_net()\n",
    "        print (a1.name)"
   ]
  },
  {
   "cell_type": "code",
   "execution_count": 18,
   "metadata": {
    "collapsed": true
   },
   "outputs": [],
   "source": [
    "def build_net(scope):\n",
    "    with tf.variable_scope(scope):\n",
    "        a = tf.Variable(tf.constant(1), name='a')\n",
    "    return a"
   ]
  },
  {
   "cell_type": "code",
   "execution_count": 19,
   "metadata": {},
   "outputs": [
    {
     "name": "stdout",
     "output_type": "stream",
     "text": [
      "actor/a:0\n"
     ]
    }
   ],
   "source": [
    "tf.reset_default_graph()\n",
    "with tf.Session() as sess:\n",
    "    a1 = build_net('actor')\n",
    "    print (a1.name)"
   ]
  },
  {
   "cell_type": "code",
   "execution_count": 20,
   "metadata": {},
   "outputs": [
    {
     "name": "stdout",
     "output_type": "stream",
     "text": [
      "actor/actor/a:0\n"
     ]
    }
   ],
   "source": [
    "tf.reset_default_graph()\n",
    "with tf.Session() as sess:\n",
    "    with tf.variable_scope('actor'):\n",
    "        a1 = build_net('actor')\n",
    "    print (a1.name)"
   ]
  },
  {
   "cell_type": "code",
   "execution_count": 34,
   "metadata": {
    "collapsed": true
   },
   "outputs": [],
   "source": [
    "tf.reset_default_graph()\n",
    "def build_layer():\n",
    "    inputs = tf.placeholder(tf.float32, shape=[2, 2], name='in')\n",
    "    h1 = tf.layers.dense(inputs=inputs, units=1, activation=None, name='h1')\n",
    "    return h1"
   ]
  },
  {
   "cell_type": "code",
   "execution_count": 35,
   "metadata": {},
   "outputs": [
    {
     "name": "stdout",
     "output_type": "stream",
     "text": [
      "actor/h1/BiasAdd:0\n",
      "actor/h2/BiasAdd:0\n"
     ]
    }
   ],
   "source": [
    "with tf.Session() as sess:\n",
    "    with tf.variable_scope('actor'):\n",
    "        h1 = build_layer()\n",
    "        print (h1.name)\n",
    "        h2 = tf.layers.dense(inputs=h1, units=1, activation=None, name='h2')\n",
    "    print (h2.name)"
   ]
  },
  {
   "cell_type": "code",
   "execution_count": 36,
   "metadata": {
    "collapsed": true
   },
   "outputs": [],
   "source": [
    "tf.reset_default_graph()\n",
    "def build_layer(scope):\n",
    "    with tf.variable_scope(scope):\n",
    "        inputs = tf.placeholder(tf.float32, shape=[2, 2], name='in')\n",
    "        h1 = tf.layers.dense(inputs=inputs, units=1, activation=None, name='h1')\n",
    "    return h1"
   ]
  },
  {
   "cell_type": "code",
   "execution_count": 38,
   "metadata": {},
   "outputs": [
    {
     "name": "stdout",
     "output_type": "stream",
     "text": [
      "actor_1/actor/h1/BiasAdd:0\n",
      "actor_1/h2/BiasAdd:0\n"
     ]
    }
   ],
   "source": [
    "with tf.Session() as sess:\n",
    "    with tf.variable_scope('actor'):\n",
    "        h1 = build_layer('actor')\n",
    "        print (h1.name)\n",
    "        h2 = tf.layers.dense(inputs=h1, units=1, activation=None, name='h2')\n",
    "    print (h2.name)"
   ]
  }
 ],
 "metadata": {
  "kernelspec": {
   "display_name": "Python 3",
   "language": "python",
   "name": "python3"
  },
  "language_info": {
   "codemirror_mode": {
    "name": "ipython",
    "version": 3
   },
   "file_extension": ".py",
   "mimetype": "text/x-python",
   "name": "python",
   "nbconvert_exporter": "python",
   "pygments_lexer": "ipython3",
   "version": "3.6.3"
  }
 },
 "nbformat": 4,
 "nbformat_minor": 2
}
