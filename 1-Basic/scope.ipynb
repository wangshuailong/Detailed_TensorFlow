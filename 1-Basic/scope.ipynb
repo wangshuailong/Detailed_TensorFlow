{
 "cells": [
  {
   "cell_type": "markdown",
   "metadata": {},
   "source": [
    "# Scopes and when to use thems"
   ]
  },
  {
   "cell_type": "code",
   "execution_count": 1,
   "metadata": {},
   "outputs": [
    {
     "name": "stderr",
     "output_type": "stream",
     "text": [
      "/usr/local/Cellar/python3/3.6.3/Frameworks/Python.framework/Versions/3.6/lib/python3.6/importlib/_bootstrap.py:219: RuntimeWarning: compiletime version 3.5 of module 'tensorflow.python.framework.fast_tensor_util' does not match runtime version 3.6\n",
      "  return f(*args, **kwds)\n"
     ]
    }
   ],
   "source": [
    "import tensorflow as tf\n",
    "import numpy as np"
   ]
  },
  {
   "cell_type": "code",
   "execution_count": 2,
   "metadata": {},
   "outputs": [],
   "source": [
    "tf.reset_default_graph()"
   ]
  },
  {
   "cell_type": "code",
   "execution_count": 3,
   "metadata": {},
   "outputs": [
    {
     "name": "stdout",
     "output_type": "stream",
     "text": [
      "Const:0\n"
     ]
    }
   ],
   "source": [
    "a = tf.constant(1)\n",
    "print (a.name)"
   ]
  },
  {
   "cell_type": "code",
   "execution_count": 4,
   "metadata": {},
   "outputs": [
    {
     "name": "stdout",
     "output_type": "stream",
     "text": [
      "Variable:0\n"
     ]
    }
   ],
   "source": [
    "b = tf.Variable(1)\n",
    "print (b.name)"
   ]
  },
  {
   "cell_type": "code",
   "execution_count": 5,
   "metadata": {},
   "outputs": [
    {
     "name": "stdout",
     "output_type": "stream",
     "text": [
      "a:0\n"
     ]
    }
   ],
   "source": [
    "a = tf.constant(1, name='a')\n",
    "print(a.name)"
   ]
  },
  {
   "cell_type": "code",
   "execution_count": 6,
   "metadata": {},
   "outputs": [
    {
     "name": "stdout",
     "output_type": "stream",
     "text": [
      "b:0\n"
     ]
    }
   ],
   "source": [
    "b = tf.Variable(1, name='b')\n",
    "print(b.name)"
   ]
  },
  {
   "cell_type": "code",
   "execution_count": 7,
   "metadata": {},
   "outputs": [
    {
     "name": "stdout",
     "output_type": "stream",
     "text": [
      "scope/a:0\n",
      "scope/b:0\n",
      "c:0\n"
     ]
    }
   ],
   "source": [
    "with tf.name_scope('scope'):\n",
    "    a = tf.constant(1, name='a')\n",
    "    print(a.name)\n",
    "    \n",
    "    b = tf.Variable(1, name='b')\n",
    "    print(b.name)\n",
    "    \n",
    "    c = tf.get_variable(name='c', shape=[])\n",
    "    print(c.name)"
   ]
  },
  {
   "cell_type": "code",
   "execution_count": 8,
   "metadata": {},
   "outputs": [
    {
     "name": "stdout",
     "output_type": "stream",
     "text": [
      "scope_1/a:0\n",
      "scope_1/b:0\n",
      "scope/c:0\n"
     ]
    }
   ],
   "source": [
    "with tf.variable_scope('scope'):\n",
    "    a = tf.constant(1, name='a')\n",
    "    print(a.name)\n",
    "    \n",
    "    b = tf.Variable(1, name='b')\n",
    "    print(b.name)\n",
    "    \n",
    "    c = tf.get_variable(name='c', shape=[])\n",
    "    print(c.name)"
   ]
  },
  {
   "cell_type": "code",
   "execution_count": 9,
   "metadata": {},
   "outputs": [],
   "source": [
    "with tf.variable_scope('scope'):\n",
    "    a1 = tf.get_variable(name='a1', shape=[])\n",
    "    a2 = tf.get_variable(name='a2', shape=[])"
   ]
  },
  {
   "cell_type": "raw",
   "metadata": {},
   "source": [
    "with tf.variable_scope('scope'):\n",
    "    a1 = tf.get_variable(name='a', shape=[])\n",
    "    a2 = tf.get_variable(name='a', shape=[])"
   ]
  },
  {
   "cell_type": "code",
   "execution_count": 10,
   "metadata": {},
   "outputs": [],
   "source": [
    "tf.reset_default_graph()\n",
    "with tf.variable_scope('scope'):\n",
    "    a1 = tf.get_variable(name='a', shape=[])\n",
    "with tf.variable_scope('scope', reuse=True):\n",
    "    a2 = tf.get_variable(name='a', shape=[])"
   ]
  },
  {
   "cell_type": "raw",
   "metadata": {},
   "source": [
    "feature1 = tf.layers.conv2d(image1, filters=32, kernel_size=3)\n",
    "# Use the same convolution weights to process the second image:\n",
    "with tf.get_variable(tf.get_variable_scope(), reuse=True):\n",
    "    feature2 = tf.layers.conv2d(image2, filters=32, kernel_size=3)"
   ]
  }
 ],
 "metadata": {
  "kernelspec": {
   "display_name": "Python 3",
   "language": "python",
   "name": "python3"
  },
  "language_info": {
   "codemirror_mode": {
    "name": "ipython",
    "version": 3
   },
   "file_extension": ".py",
   "mimetype": "text/x-python",
   "name": "python",
   "nbconvert_exporter": "python",
   "pygments_lexer": "ipython3",
   "version": "3.6.3"
  }
 },
 "nbformat": 4,
 "nbformat_minor": 2
}
