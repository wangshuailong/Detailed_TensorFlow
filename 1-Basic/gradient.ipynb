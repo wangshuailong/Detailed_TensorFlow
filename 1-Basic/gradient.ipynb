{
 "cells": [
  {
   "cell_type": "markdown",
   "metadata": {},
   "source": [
    "# Gradient"
   ]
  },
  {
   "cell_type": "code",
   "execution_count": 1,
   "metadata": {},
   "outputs": [
    {
     "name": "stderr",
     "output_type": "stream",
     "text": [
      "/usr/local/Cellar/python3/3.6.3/Frameworks/Python.framework/Versions/3.6/lib/python3.6/importlib/_bootstrap.py:219: RuntimeWarning: compiletime version 3.5 of module 'tensorflow.python.framework.fast_tensor_util' does not match runtime version 3.6\n",
      "  return f(*args, **kwds)\n"
     ]
    }
   ],
   "source": [
    "import tensorflow as tf\n",
    "import numpy as np"
   ]
  },
  {
   "cell_type": "code",
   "execution_count": 2,
   "metadata": {},
   "outputs": [],
   "source": [
    "x = tf.Variable(tf.random_normal([1]), name=\"x\")"
   ]
  },
  {
   "cell_type": "code",
   "execution_count": 3,
   "metadata": {},
   "outputs": [],
   "source": [
    "train_op = tf.train.AdamOptimizer(learning_rate=0.05).minimize(x)"
   ]
  },
  {
   "cell_type": "code",
   "execution_count": 4,
   "metadata": {},
   "outputs": [
    {
     "name": "stdout",
     "output_type": "stream",
     "text": [
      "[ 1.50781536]\n",
      "[ 1.45781553]\n",
      "[ 1.40781593]\n",
      "[ 1.3578161]\n",
      "[ 1.30781627]\n",
      "[ 1.25781643]\n",
      "[ 1.20781648]\n",
      "[ 1.15781653]\n",
      "[ 1.10781658]\n",
      "[ 1.05781662]\n"
     ]
    }
   ],
   "source": [
    "with tf.Session() as sess:\n",
    "    sess.run(tf.global_variables_initializer())\n",
    "    for _ in range(10):\n",
    "        sess.run(train_op)\n",
    "        print (x.eval())"
   ]
  },
  {
   "cell_type": "code",
   "execution_count": 5,
   "metadata": {},
   "outputs": [],
   "source": [
    "optimizer = tf.train.AdamOptimizer(learning_rate=0.05)"
   ]
  },
  {
   "cell_type": "code",
   "execution_count": 6,
   "metadata": {},
   "outputs": [],
   "source": [
    "loss_op = tf.pow(x-2, 2, name='loss')"
   ]
  },
  {
   "cell_type": "markdown",
   "metadata": {},
   "source": [
    "## Minimize"
   ]
  },
  {
   "cell_type": "code",
   "execution_count": 7,
   "metadata": {},
   "outputs": [],
   "source": [
    "train_op = optimizer.minimize(loss_op)"
   ]
  },
  {
   "cell_type": "code",
   "execution_count": 8,
   "metadata": {},
   "outputs": [
    {
     "name": "stdout",
     "output_type": "stream",
     "text": [
      "[-1.46288037]\n",
      "[-1.41290045]\n",
      "[-1.36295438]\n",
      "[-1.31305563]\n",
      "[-1.2632184]\n",
      "[-1.21345711]\n",
      "[-1.16378593]\n",
      "[-1.11421943]\n",
      "[-1.06477225]\n",
      "[-1.01545882]\n"
     ]
    }
   ],
   "source": [
    "with tf.Session() as sess:\n",
    "    sess.run(tf.global_variables_initializer())\n",
    "    for _ in range(10):\n",
    "        sess.run([train_op])\n",
    "        print (x.eval())"
   ]
  },
  {
   "cell_type": "code",
   "execution_count": 9,
   "metadata": {},
   "outputs": [
    {
     "name": "stdout",
     "output_type": "stream",
     "text": [
      "When x is [ 2.04633045] loss is [  1.34494894e-05]\n",
      "When x is [ 2.01188207] loss is [ 0.00214651]\n",
      "When x is [ 1.97816885] loss is [ 0.00014118]\n",
      "When x is [ 1.965083] loss is [ 0.0004766]\n",
      "When x is [ 1.97094333] loss is [ 0.0012192]\n",
      "When x is [ 1.98644614] loss is [ 0.00084429]\n",
      "When x is [ 2.00458312] loss is [ 0.00018371]\n",
      "When x is [ 2.01893592] loss is [  2.10049930e-05]\n",
      "When x is [ 2.02493548] loss is [ 0.00035857]\n",
      "When x is [ 2.02220416] loss is [ 0.00062178]\n"
     ]
    }
   ],
   "source": [
    "with tf.Session() as sess:\n",
    "    sess.run(tf.global_variables_initializer())\n",
    "    for _ in range(10):\n",
    "        _, loss = sess.run([train_op, loss_op])\n",
    "        print ('When x is %s loss is %s' % (x.eval(), loss))"
   ]
  },
  {
   "cell_type": "markdown",
   "metadata": {},
   "source": [
    "## compute_gradient and apply_gradient"
   ]
  },
  {
   "cell_type": "code",
   "execution_count": 10,
   "metadata": {},
   "outputs": [],
   "source": [
    "grads_and_vars = optimizer.compute_gradients(loss=loss_op)"
   ]
  },
  {
   "cell_type": "code",
   "execution_count": 11,
   "metadata": {},
   "outputs": [],
   "source": [
    "train_op = optimizer.apply_gradients(grads_and_vars)"
   ]
  },
  {
   "cell_type": "code",
   "execution_count": 12,
   "metadata": {},
   "outputs": [
    {
     "name": "stdout",
     "output_type": "stream",
     "text": [
      "When x is [-0.37077576] loss is [ 5.86015463]\n",
      "When x is [-0.32080585] loss is [ 5.62057734]\n",
      "When x is [-0.27088681] loss is [ 5.38613939]\n",
      "When x is [-0.22103958] loss is [ 5.15692711]\n",
      "When x is [-0.1712862] loss is [ 4.93301678]\n",
      "When x is [-0.12164907] loss is [ 4.71448326]\n",
      "When x is [-0.07215084] loss is [ 4.50139475]\n",
      "When x is [-0.02281479] loss is [ 4.29380941]\n",
      "When x is [ 0.02633548] loss is [ 4.09177971]\n",
      "When x is [ 0.07527625] loss is [ 3.89535165]\n"
     ]
    }
   ],
   "source": [
    "with tf.Session() as sess:\n",
    "    sess.run(tf.global_variables_initializer())\n",
    "    for _ in range(10):\n",
    "        _, loss = sess.run([train_op, loss_op])\n",
    "        print ('When x is %s loss is %s' % (x.eval(), loss))"
   ]
  },
  {
   "cell_type": "markdown",
   "metadata": {},
   "source": [
    "## clip_by_global_norm"
   ]
  },
  {
   "cell_type": "code",
   "execution_count": 13,
   "metadata": {},
   "outputs": [],
   "source": [
    "gradients, variables = zip(*grads_and_vars)"
   ]
  },
  {
   "cell_type": "code",
   "execution_count": 14,
   "metadata": {},
   "outputs": [],
   "source": [
    "gradients, _ = tf.clip_by_global_norm(gradients, 1.25)"
   ]
  },
  {
   "cell_type": "code",
   "execution_count": 15,
   "metadata": {},
   "outputs": [],
   "source": [
    "train_op = optimizer.apply_gradients(zip(gradients, variables))"
   ]
  },
  {
   "cell_type": "code",
   "execution_count": 16,
   "metadata": {},
   "outputs": [
    {
     "name": "stdout",
     "output_type": "stream",
     "text": [
      "When x is [ 1.07901931] loss is [ 0.94280338]\n",
      "When x is [ 1.12901914] loss is [ 0.84820545]\n",
      "When x is [ 1.17901874] loss is [ 0.75860769]\n",
      "When x is [ 1.22901857] loss is [ 0.67401022]\n",
      "When x is [ 1.2790184] loss is [ 0.59441239]\n",
      "When x is [ 1.32901824] loss is [ 0.51981449]\n",
      "When x is [ 1.37901819] loss is [ 0.45021653]\n",
      "When x is [ 1.42900193] loss is [ 0.38561842]\n",
      "When x is [ 1.47874618] loss is [ 0.32603881]\n",
      "When x is [ 1.52804422] loss is [ 0.27170554]\n"
     ]
    }
   ],
   "source": [
    "with tf.Session() as sess:\n",
    "    sess.run(tf.global_variables_initializer())\n",
    "    for _ in range(10):\n",
    "        _, loss = sess.run([train_op, loss_op])\n",
    "        print ('When x is %s loss is %s' % (x.eval(), loss))"
   ]
  },
  {
   "cell_type": "markdown",
   "metadata": {},
   "source": [
    "## exponential_decay"
   ]
  },
  {
   "cell_type": "code",
   "execution_count": 17,
   "metadata": {},
   "outputs": [],
   "source": [
    "global_step = tf.Variable(0)\n",
    "learning_rate = tf.train.exponential_decay(learning_rate=0.5, global_step=global_step, \n",
    "                                           decay_steps=3, decay_rate=0.1, staircase=True)\n",
    "optimizer = tf.train.AdamOptimizer(learning_rate=learning_rate)\n",
    "train_op = optimizer.minimize(loss_op)"
   ]
  },
  {
   "cell_type": "code",
   "execution_count": 18,
   "metadata": {},
   "outputs": [
    {
     "name": "stdout",
     "output_type": "stream",
     "text": [
      "When x is [ 0.57217175] loss is [ 3.7165215]\n",
      "When x is [ 1.06286788] loss is [ 2.03869367]\n",
      "When x is [ 1.53243852] loss is [ 0.87821662]\n",
      "When x is [ 1.96284461] loss is [ 0.21861374]\n",
      "When x is [ 2.33047676] loss is [ 0.00138052]\n",
      "When x is [ 2.61205649] loss is [ 0.10921489]\n",
      "When x is [ 2.79421639] loss is [ 0.37461317]\n",
      "When x is [ 2.8783412] loss is [ 0.63077968]\n",
      "When x is [ 2.87680507] loss is [ 0.77148324]\n",
      "When x is [ 2.80639744] loss is [ 0.76878715]\n"
     ]
    }
   ],
   "source": [
    "with tf.Session() as sess:\n",
    "    sess.run(tf.global_variables_initializer())\n",
    "    for _ in range(10):\n",
    "        _, loss = sess.run([train_op, loss_op])\n",
    "        print ('When x is %s loss is %s' % (x.eval(), loss))"
   ]
  },
  {
   "cell_type": "markdown",
   "metadata": {},
   "source": [
    "# ys in Gradients"
   ]
  },
  {
   "cell_type": "code",
   "execution_count": 19,
   "metadata": {},
   "outputs": [],
   "source": [
    "x = tf.Variable([[1, 2]])\n",
    "y = tf.matmul(x, [[1], [2]])\n",
    "gradients_op = tf.gradients(ys=y, xs=x)"
   ]
  },
  {
   "cell_type": "code",
   "execution_count": 20,
   "metadata": {},
   "outputs": [
    {
     "name": "stdout",
     "output_type": "stream",
     "text": [
      "The gradients is [array([[1, 2]], dtype=int32)]\n"
     ]
    }
   ],
   "source": [
    "with tf.Session() as sess:\n",
    "    sess.run(tf.global_variables_initializer())\n",
    "    grads = sess.run(gradients_op)\n",
    "    print ('The gradients is %s' % (grads))"
   ]
  },
  {
   "cell_type": "markdown",
   "metadata": {},
   "source": [
    "## More about Gradient"
   ]
  },
  {
   "cell_type": "code",
   "execution_count": 21,
   "metadata": {},
   "outputs": [],
   "source": [
    "x = tf.Variable(2.0, dtype=tf.float32)\n",
    "y = x**2 + 2*x + 3"
   ]
  },
  {
   "cell_type": "code",
   "execution_count": 22,
   "metadata": {},
   "outputs": [],
   "source": [
    "grad_1 = tf.gradients(ys=y, xs=x)"
   ]
  },
  {
   "cell_type": "code",
   "execution_count": 23,
   "metadata": {},
   "outputs": [],
   "source": [
    "grad_2 = tf.gradients(ys=grad_1, xs=x)"
   ]
  },
  {
   "cell_type": "code",
   "execution_count": 24,
   "metadata": {},
   "outputs": [],
   "source": [
    "grad_3 = tf.gradients(ys=y, xs=x, grad_ys=grad_1)"
   ]
  },
  {
   "cell_type": "code",
   "execution_count": 25,
   "metadata": {},
   "outputs": [
    {
     "name": "stdout",
     "output_type": "stream",
     "text": [
      "gradients 1:  [6.0]\n",
      "gradients 2:  [2.0]\n",
      "gradients 3:  [36.0]\n"
     ]
    }
   ],
   "source": [
    "with tf.Session() as sess:\n",
    "    sess.run(tf.global_variables_initializer())\n",
    "    gradients_1 = sess.run(grad_1)\n",
    "    gradients_2 = sess.run(grad_2)\n",
    "    gradients_3 = sess.run(grad_3)\n",
    "    print('gradients 1: ', gradients_1)\n",
    "    print('gradients 2: ', gradients_2)\n",
    "    print('gradients 3: ', gradients_3)"
   ]
  },
  {
   "cell_type": "code",
   "execution_count": 26,
   "metadata": {},
   "outputs": [],
   "source": [
    "x = tf.Variable(tf.random_normal(shape=[3, 2], mean=0.0, stddev=0.1, dtype=tf.float32))\n",
    "y = x**2 + 2*x + 3"
   ]
  },
  {
   "cell_type": "code",
   "execution_count": 27,
   "metadata": {},
   "outputs": [],
   "source": [
    "grad = tf.gradients(ys=y, xs=x)"
   ]
  },
  {
   "cell_type": "code",
   "execution_count": 28,
   "metadata": {},
   "outputs": [
    {
     "name": "stdout",
     "output_type": "stream",
     "text": [
      "gradients:  [array([[ 1.94673479,  1.9046154 ],\n",
      "       [ 1.86957288,  1.75129688],\n",
      "       [ 1.87495804,  1.95635068]], dtype=float32)]\n"
     ]
    }
   ],
   "source": [
    "with tf.Session() as sess:\n",
    "    sess.run(tf.global_variables_initializer())\n",
    "    gradients = sess.run(grad)\n",
    "    print('gradients: ', gradients)"
   ]
  },
  {
   "cell_type": "code",
   "execution_count": null,
   "metadata": {},
   "outputs": [],
   "source": []
  }
 ],
 "metadata": {
  "kernelspec": {
   "display_name": "Python 3",
   "language": "python",
   "name": "python3"
  },
  "language_info": {
   "codemirror_mode": {
    "name": "ipython",
    "version": 3
   },
   "file_extension": ".py",
   "mimetype": "text/x-python",
   "name": "python",
   "nbconvert_exporter": "python",
   "pygments_lexer": "ipython3",
   "version": "3.6.3"
  }
 },
 "nbformat": 4,
 "nbformat_minor": 2
}
